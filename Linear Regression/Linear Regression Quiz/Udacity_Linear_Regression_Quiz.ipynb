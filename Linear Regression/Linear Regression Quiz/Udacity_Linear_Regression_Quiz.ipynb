{
  "nbformat": 4,
  "nbformat_minor": 0,
  "metadata": {
    "colab": {
      "name": "Udacity_Linear_Regression_Quiz.ipynb",
      "provenance": []
    },
    "kernelspec": {
      "name": "python3",
      "display_name": "Python 3"
    },
    "language_info": {
      "name": "python"
    }
  },
  "cells": [
    {
      "cell_type": "markdown",
      "source": [
        "[![open in colab](https://colab.research.google.com/assets/colab-badge.svg)](https://colab.research.google.com/drive/1ebUEbAIE7M5NyvoL9dpPP7tDgCIo2L-1?usp=sharing)"
      ],
      "metadata": {
        "id": "_GjYh-rpOPwz"
      }
    },
    {
      "cell_type": "markdown",
      "source": [
        "# Linear Regression Quiz\n",
        "\n",
        "In this quiz, you'll be working with data on the average life expectancy at birth and the average BMI for males across the world. The data comes from Gapminder.\n",
        "\n",
        "The data file can be found under the \"bmi_and_life_expectancy.csv\" tab in the quiz below. It includes three columns, containing the following data:\n",
        "\n",
        "- Country – The country the person was born in.\n",
        "- Life expectancy – The average life expectancy at birth for a person in that country.\n",
        "- BMI – The mean BMI of males in that country.\n",
        "\n",
        "You'll need to complete each of the following steps:\n",
        "1. Load the data\n",
        "- The data is in the file called \"bmi_and_life_expectancy.csv\".\n",
        "Use pandas read_csv to load the data into a dataframe (don't forget to import pandas!)\n",
        "Assign the dataframe to the variable bmi_life_data.\n",
        "\n",
        "2. Build a linear regression model\n",
        "- Create a regression model using scikit-learn's LinearRegression and assign it to bmi_life_model.\n",
        "Fit the model to the data.\n",
        "\n",
        "3. Predict using the model\n",
        "- Predict using a BMI of 21.07931 and assign it to the variable laos_life_exp."
      ],
      "metadata": {
        "id": "S98lXvI7N6IF"
      }
    },
    {
      "cell_type": "code",
      "execution_count": 2,
      "metadata": {
        "colab": {
          "base_uri": "https://localhost:8080/"
        },
        "id": "MhnW2-SqN0pp",
        "outputId": "be83c900-17a5-41d3-cffb-4b584c3720ba"
      },
      "outputs": [
        {
          "output_type": "stream",
          "name": "stdout",
          "text": [
            "Downloading...\n",
            "From: https://drive.google.com/uc?id=1gBdA7ZXJaJHvBy_IaIpbln7ixqsQrF3a\n",
            "To: /content/bmi_and_life_expectancy.csv\n",
            "\r  0% 0.00/3.97k [00:00<?, ?B/s]\r100% 3.97k/3.97k [00:00<00:00, 15.9MB/s]\n"
          ]
        }
      ],
      "source": [
        "# Download Dataset:\n",
        "!gdown --id 1gBdA7ZXJaJHvBy_IaIpbln7ixqsQrF3a"
      ]
    },
    {
      "cell_type": "code",
      "source": [
        "# TODO: Add import statements\n",
        "\n",
        "\n",
        "# Assign the dataframe to this variable.\n",
        "# TODO: Load the data\n",
        "bmi_life_data = None \n",
        "\n",
        "# Make and fit the linear regression model\n",
        "#TODO: Fit the model and Assign it to bmi_life_model\n",
        "bmi_life_model = None\n",
        "\n",
        "# Make a prediction using the model\n",
        "# TODO: Predict life expectancy for a BMI value of 21.07931\n",
        "laos_life_exp = None"
      ],
      "metadata": {
        "id": "iauhe7SqQHOm"
      },
      "execution_count": null,
      "outputs": []
    },
    {
      "cell_type": "markdown",
      "source": [
        "# Solution"
      ],
      "metadata": {
        "id": "l2RVOQ6cQULj"
      }
    },
    {
      "cell_type": "code",
      "source": [
        "# TODO: Add import statements\n",
        "import pandas as pd\n",
        "import numpy as np\n",
        "from sklearn.linear_model import LinearRegression\n",
        "\n",
        "# Assign the dataframe to this variable.\n",
        "# TODO: Load the data\n",
        "bmi_life_data = pd.read_csv(\"bmi_and_life_expectancy.csv\", delimiter=',')\n",
        "display(bmi_life_data)\n",
        "# Make and fit the linear regression model\n",
        "#TODO: Fit the model and Assign it to bmi_life_model\n",
        "bmi_life_model = LinearRegression()\n",
        "bmi_life_model.fit(bmi_life_data[['BMI']], bmi_life_data[['Life expectancy']])\n",
        "\n",
        "# Make a prediction using the model\n",
        "# TODO: Predict life expectancy for a BMI value of 21.07931\n",
        "laos_life_exp = bmi_life_model.predict(np.array(21.07931).reshape(-1, 1))\n",
        "laos_life_exp"
      ],
      "metadata": {
        "colab": {
          "base_uri": "https://localhost:8080/",
          "height": 498
        },
        "id": "M2MhHpNxQVj9",
        "outputId": "11343899-91a0-4f38-c61a-037caf00810d"
      },
      "execution_count": 24,
      "outputs": [
        {
          "output_type": "display_data",
          "data": {
            "text/html": [
              "\n",
              "  <div id=\"df-b0e63072-bb28-4de3-824f-9d7e4f10de20\">\n",
              "    <div class=\"colab-df-container\">\n",
              "      <div>\n",
              "<style scoped>\n",
              "    .dataframe tbody tr th:only-of-type {\n",
              "        vertical-align: middle;\n",
              "    }\n",
              "\n",
              "    .dataframe tbody tr th {\n",
              "        vertical-align: top;\n",
              "    }\n",
              "\n",
              "    .dataframe thead th {\n",
              "        text-align: right;\n",
              "    }\n",
              "</style>\n",
              "<table border=\"1\" class=\"dataframe\">\n",
              "  <thead>\n",
              "    <tr style=\"text-align: right;\">\n",
              "      <th></th>\n",
              "      <th>Country</th>\n",
              "      <th>Life expectancy</th>\n",
              "      <th>BMI</th>\n",
              "    </tr>\n",
              "  </thead>\n",
              "  <tbody>\n",
              "    <tr>\n",
              "      <th>0</th>\n",
              "      <td>Afghanistan</td>\n",
              "      <td>52.8</td>\n",
              "      <td>20.62058</td>\n",
              "    </tr>\n",
              "    <tr>\n",
              "      <th>1</th>\n",
              "      <td>Albania</td>\n",
              "      <td>76.8</td>\n",
              "      <td>26.44657</td>\n",
              "    </tr>\n",
              "    <tr>\n",
              "      <th>2</th>\n",
              "      <td>Algeria</td>\n",
              "      <td>75.5</td>\n",
              "      <td>24.59620</td>\n",
              "    </tr>\n",
              "    <tr>\n",
              "      <th>3</th>\n",
              "      <td>Andorra</td>\n",
              "      <td>84.6</td>\n",
              "      <td>27.63048</td>\n",
              "    </tr>\n",
              "    <tr>\n",
              "      <th>4</th>\n",
              "      <td>Angola</td>\n",
              "      <td>56.7</td>\n",
              "      <td>22.25083</td>\n",
              "    </tr>\n",
              "    <tr>\n",
              "      <th>...</th>\n",
              "      <td>...</td>\n",
              "      <td>...</td>\n",
              "      <td>...</td>\n",
              "    </tr>\n",
              "    <tr>\n",
              "      <th>158</th>\n",
              "      <td>Vanuatu</td>\n",
              "      <td>63.4</td>\n",
              "      <td>26.78926</td>\n",
              "    </tr>\n",
              "    <tr>\n",
              "      <th>159</th>\n",
              "      <td>West Bank and Gaza</td>\n",
              "      <td>74.1</td>\n",
              "      <td>26.57750</td>\n",
              "    </tr>\n",
              "    <tr>\n",
              "      <th>160</th>\n",
              "      <td>Vietnam</td>\n",
              "      <td>74.1</td>\n",
              "      <td>20.91630</td>\n",
              "    </tr>\n",
              "    <tr>\n",
              "      <th>161</th>\n",
              "      <td>Zambia</td>\n",
              "      <td>51.1</td>\n",
              "      <td>20.68321</td>\n",
              "    </tr>\n",
              "    <tr>\n",
              "      <th>162</th>\n",
              "      <td>Zimbabwe</td>\n",
              "      <td>47.3</td>\n",
              "      <td>22.02660</td>\n",
              "    </tr>\n",
              "  </tbody>\n",
              "</table>\n",
              "<p>163 rows × 3 columns</p>\n",
              "</div>\n",
              "      <button class=\"colab-df-convert\" onclick=\"convertToInteractive('df-b0e63072-bb28-4de3-824f-9d7e4f10de20')\"\n",
              "              title=\"Convert this dataframe to an interactive table.\"\n",
              "              style=\"display:none;\">\n",
              "        \n",
              "  <svg xmlns=\"http://www.w3.org/2000/svg\" height=\"24px\"viewBox=\"0 0 24 24\"\n",
              "       width=\"24px\">\n",
              "    <path d=\"M0 0h24v24H0V0z\" fill=\"none\"/>\n",
              "    <path d=\"M18.56 5.44l.94 2.06.94-2.06 2.06-.94-2.06-.94-.94-2.06-.94 2.06-2.06.94zm-11 1L8.5 8.5l.94-2.06 2.06-.94-2.06-.94L8.5 2.5l-.94 2.06-2.06.94zm10 10l.94 2.06.94-2.06 2.06-.94-2.06-.94-.94-2.06-.94 2.06-2.06.94z\"/><path d=\"M17.41 7.96l-1.37-1.37c-.4-.4-.92-.59-1.43-.59-.52 0-1.04.2-1.43.59L10.3 9.45l-7.72 7.72c-.78.78-.78 2.05 0 2.83L4 21.41c.39.39.9.59 1.41.59.51 0 1.02-.2 1.41-.59l7.78-7.78 2.81-2.81c.8-.78.8-2.07 0-2.86zM5.41 20L4 18.59l7.72-7.72 1.47 1.35L5.41 20z\"/>\n",
              "  </svg>\n",
              "      </button>\n",
              "      \n",
              "  <style>\n",
              "    .colab-df-container {\n",
              "      display:flex;\n",
              "      flex-wrap:wrap;\n",
              "      gap: 12px;\n",
              "    }\n",
              "\n",
              "    .colab-df-convert {\n",
              "      background-color: #E8F0FE;\n",
              "      border: none;\n",
              "      border-radius: 50%;\n",
              "      cursor: pointer;\n",
              "      display: none;\n",
              "      fill: #1967D2;\n",
              "      height: 32px;\n",
              "      padding: 0 0 0 0;\n",
              "      width: 32px;\n",
              "    }\n",
              "\n",
              "    .colab-df-convert:hover {\n",
              "      background-color: #E2EBFA;\n",
              "      box-shadow: 0px 1px 2px rgba(60, 64, 67, 0.3), 0px 1px 3px 1px rgba(60, 64, 67, 0.15);\n",
              "      fill: #174EA6;\n",
              "    }\n",
              "\n",
              "    [theme=dark] .colab-df-convert {\n",
              "      background-color: #3B4455;\n",
              "      fill: #D2E3FC;\n",
              "    }\n",
              "\n",
              "    [theme=dark] .colab-df-convert:hover {\n",
              "      background-color: #434B5C;\n",
              "      box-shadow: 0px 1px 3px 1px rgba(0, 0, 0, 0.15);\n",
              "      filter: drop-shadow(0px 1px 2px rgba(0, 0, 0, 0.3));\n",
              "      fill: #FFFFFF;\n",
              "    }\n",
              "  </style>\n",
              "\n",
              "      <script>\n",
              "        const buttonEl =\n",
              "          document.querySelector('#df-b0e63072-bb28-4de3-824f-9d7e4f10de20 button.colab-df-convert');\n",
              "        buttonEl.style.display =\n",
              "          google.colab.kernel.accessAllowed ? 'block' : 'none';\n",
              "\n",
              "        async function convertToInteractive(key) {\n",
              "          const element = document.querySelector('#df-b0e63072-bb28-4de3-824f-9d7e4f10de20');\n",
              "          const dataTable =\n",
              "            await google.colab.kernel.invokeFunction('convertToInteractive',\n",
              "                                                     [key], {});\n",
              "          if (!dataTable) return;\n",
              "\n",
              "          const docLinkHtml = 'Like what you see? Visit the ' +\n",
              "            '<a target=\"_blank\" href=https://colab.research.google.com/notebooks/data_table.ipynb>data table notebook</a>'\n",
              "            + ' to learn more about interactive tables.';\n",
              "          element.innerHTML = '';\n",
              "          dataTable['output_type'] = 'display_data';\n",
              "          await google.colab.output.renderOutput(dataTable, element);\n",
              "          const docLink = document.createElement('div');\n",
              "          docLink.innerHTML = docLinkHtml;\n",
              "          element.appendChild(docLink);\n",
              "        }\n",
              "      </script>\n",
              "    </div>\n",
              "  </div>\n",
              "  "
            ],
            "text/plain": [
              "                Country  Life expectancy       BMI\n",
              "0           Afghanistan             52.8  20.62058\n",
              "1               Albania             76.8  26.44657\n",
              "2               Algeria             75.5  24.59620\n",
              "3               Andorra             84.6  27.63048\n",
              "4                Angola             56.7  22.25083\n",
              "..                  ...              ...       ...\n",
              "158             Vanuatu             63.4  26.78926\n",
              "159  West Bank and Gaza             74.1  26.57750\n",
              "160             Vietnam             74.1  20.91630\n",
              "161              Zambia             51.1  20.68321\n",
              "162            Zimbabwe             47.3  22.02660\n",
              "\n",
              "[163 rows x 3 columns]"
            ]
          },
          "metadata": {}
        },
        {
          "output_type": "stream",
          "name": "stderr",
          "text": [
            "/usr/local/lib/python3.7/dist-packages/sklearn/base.py:446: UserWarning: X does not have valid feature names, but LinearRegression was fitted with feature names\n",
            "  \"X does not have valid feature names, but\"\n"
          ]
        },
        {
          "output_type": "execute_result",
          "data": {
            "text/plain": [
              "array([[60.31564716]])"
            ]
          },
          "metadata": {},
          "execution_count": 24
        }
      ]
    },
    {
      "cell_type": "code",
      "source": [
        ""
      ],
      "metadata": {
        "id": "F6_7GTgASf4l"
      },
      "execution_count": null,
      "outputs": []
    }
  ]
}