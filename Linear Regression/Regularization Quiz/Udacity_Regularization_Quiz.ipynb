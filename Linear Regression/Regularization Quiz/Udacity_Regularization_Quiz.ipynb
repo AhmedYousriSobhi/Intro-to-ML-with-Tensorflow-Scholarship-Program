{
  "nbformat": 4,
  "nbformat_minor": 0,
  "metadata": {
    "colab": {
      "name": "Udacity_Regularization_Quiz.ipynb",
      "provenance": []
    },
    "kernelspec": {
      "name": "python3",
      "display_name": "Python 3"
    },
    "language_info": {
      "name": "python"
    }
  },
  "cells": [
    {
      "cell_type": "markdown",
      "source": [
        "[![open in colab](https://colab.research.google.com/assets/colab-badge.svg)](https://colab.research.google.com/drive/1SxkPr094kI72W9pzp1VHvjoSnqp2iUgK?usp=sharing)"
      ],
      "metadata": {
        "id": "a4WnqjEeqpsk"
      }
    },
    {
      "cell_type": "markdown",
      "source": [
        "# Programming Quiz for \"Regularization\"\n",
        "\n",
        "## Regularization Exercise\n",
        "Perhaps it's not too surprising at this point, but there are classes in sklearn that will help you perform regularization with your linear regression. You'll get practice with implementing that in this exercise. In this assignment's data.csv, you'll find data for a bunch of points including six predictor variables and one outcome variable. Use sklearn's Lasso class to fit a linear regression model to the data, while also using L1 regularization to control for model complexity.\n",
        "\n",
        "Perform the following steps:\n",
        "1. Load in the data\n",
        "\n",
        "- The data is in the file called 'data.csv'. Note that there's no header row on this file.\n",
        "- Split the data so that the six predictor features (first six columns) are stored in X, and the outcome feature (last column) is stored in y.\n",
        "2. Fit data using linear regression with Lasso regularization\n",
        "\n",
        "- Create an instance of sklearn's Lasso class and assign it to the variable lasso_reg. You don't need to set any parameter values: use the default values for the quiz.\n",
        "- Use the Lasso object's .fit() method to fit the regression model onto the data.\n",
        "3. Inspect the coefficients of the regression model\n",
        "\n",
        "- Obtain the coefficients of the fit regression model using the .coef_ attribute of the Lasso object. Store this in the reg_coef variable: the coefficients will be printed out, and you will use your observations to answer the question at the bottom of the page"
      ],
      "metadata": {
        "id": "Gw1m4WDZqpjc"
      }
    },
    {
      "cell_type": "code",
      "execution_count": 1,
      "metadata": {
        "colab": {
          "base_uri": "https://localhost:8080/"
        },
        "id": "7HW7HIUzqi9F",
        "outputId": "e6fd52af-9d69-43d8-edaf-905b3b9b5edd"
      },
      "outputs": [
        {
          "output_type": "stream",
          "name": "stdout",
          "text": [
            "Downloading...\n",
            "From: https://drive.google.com/uc?id=1Xe_-8V7jq2MVSGPYGQRRn6FEgFBHJRfG\n",
            "To: /content/Data_reg.csv\n",
            "\r  0% 0.00/6.15k [00:00<?, ?B/s]\r100% 6.15k/6.15k [00:00<00:00, 4.93MB/s]\n"
          ]
        }
      ],
      "source": [
        "!gdown --id 1Xe_-8V7jq2MVSGPYGQRRn6FEgFBHJRfG"
      ]
    },
    {
      "cell_type": "code",
      "source": [
        "# TODO: Add import statements\n",
        "\n",
        "\n",
        "# Assign the data to predictor and outcome variables\n",
        "# TODO: Load the data\n",
        "train_data = None\n",
        "X = None\n",
        "y = None\n",
        "\n",
        "# TODO: Create the linear regression model with lasso regularization.\n",
        "lasso_reg = None\n",
        "\n",
        "# TODO: Fit the model.\n",
        "\n",
        "\n",
        "# TODO: Retrieve and print out the coefficients from the regression model.\n",
        "reg_coef = None\n",
        "print(reg_coef)"
      ],
      "metadata": {
        "id": "dtesqff4qou5"
      },
      "execution_count": null,
      "outputs": []
    },
    {
      "cell_type": "markdown",
      "source": [
        "## Solution"
      ],
      "metadata": {
        "id": "aW31nAcArEdb"
      }
    },
    {
      "cell_type": "code",
      "source": [
        "# TODO: Add import statements\n",
        "import pandas as pd\n",
        "from sklearn.linear_model import Lasso\n",
        "\n",
        "# Assign the data to predictor and outcome variables\n",
        "# TODO: Load the data\n",
        "train_data = pd.read_csv('Data_reg.csv')\n",
        "X = train_data.iloc[:,:-1]\n",
        "y = train_data.iloc[:,-1]\n",
        "\n",
        "# TODO: Create the linear regression model with lasso regularization.\n",
        "lasso_reg = Lasso()\n",
        "\n",
        "# TODO: Fit the model.\n",
        "lasso_reg.fit(X,y)\n",
        "\n",
        "# TODO: Retrieve and print out the coefficients from the regression model.\n",
        "reg_coef = lasso_reg.coef_\n",
        "print(reg_coef)"
      ],
      "metadata": {
        "colab": {
          "base_uri": "https://localhost:8080/"
        },
        "id": "YZyUWTYYrFYo",
        "outputId": "f1ade017-2883-427a-fcdf-28f87ba94c22"
      },
      "execution_count": 4,
      "outputs": [
        {
          "output_type": "stream",
          "name": "stdout",
          "text": [
            "[ 0.          2.33659619  2.0140086  -0.05753445 -3.91583673  0.        ]\n"
          ]
        }
      ]
    },
    {
      "cell_type": "code",
      "source": [
        ""
      ],
      "metadata": {
        "id": "zW82v3absKVm"
      },
      "execution_count": null,
      "outputs": []
    }
  ]
}