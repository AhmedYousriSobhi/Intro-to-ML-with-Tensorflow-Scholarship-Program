{
  "nbformat": 4,
  "nbformat_minor": 0,
  "metadata": {
    "colab": {
      "name": "Udacity_Polynomial_Regression_Quiz.ipynb",
      "provenance": []
    },
    "kernelspec": {
      "name": "python3",
      "display_name": "Python 3"
    },
    "language_info": {
      "name": "python"
    }
  },
  "cells": [
    {
      "cell_type": "markdown",
      "source": [
        "[![open in colab](https://colab.research.google.com/assets/colab-badge.svg)]()"
      ],
      "metadata": {
        "id": "s6cG_Ibeaizt"
      }
    },
    {
      "cell_type": "markdown",
      "source": [
        "# Programming Quiz for \"Polynomial Regression\"\n",
        "\n",
        "## Polynomial Regression Exercise\n",
        "Get some practice implementing polynomial regression in this exercise. In data.csv, you can see data generated for one predictor feature ('Var_X') and one outcome feature ('Var_Y'), following a non-linear trend. Use sklearn's PolynomialFeatures class to extend the predictor feature column into multiple columns with polynomial features. Play around with different degrees of polynomial and the Test Run button to see what fits best: when you think you have the best-fitting degree, press the Submit button to check your work!\n",
        "\n",
        "Perform the following steps below:\n",
        "1. Load in the data\n",
        "\n",
        "- The data is in the file called 'data.csv'. Note that this data has a header line.\n",
        "- Make sure that you've split out the data into the predictor feature in X and outcome feature in y.\n",
        "- For X, make sure it is in a 2-d array of 20 rows by 1 column. You might need to use NumPy's reshape function to accomplish this.\n",
        "2. Create polynomial features\n",
        "\n",
        "- Create an instance of sklearn's PolynomialFeatures class and assign it to the variable poly_feat. Pay attention to how to set the degree of features, since that will be how the exercise is evaluated.\n",
        "- Create the polynomial features by using the PolynomialFeatures object's .fit_transform() method. The \"fit\" side of the method considers how many features are needed in the output, and the \"transform\" side applies those considerations to the data provided to the method as an argument. Assign the new feature matrix to the X_poly variable.\n",
        "3. Build a polynomial regression model\n",
        "\n",
        "- Create a polynomial regression model by combining sklearn's LinearRegression class with the polynomial features. Assign the fit model to poly_model."
      ],
      "metadata": {
        "id": "vZLL9Hf4aid3"
      }
    },
    {
      "cell_type": "code",
      "execution_count": 1,
      "metadata": {
        "colab": {
          "base_uri": "https://localhost:8080/"
        },
        "id": "nQ-yg_AJaSFz",
        "outputId": "0d5e8644-86b0-46bf-f332-0e0fa9058197"
      },
      "outputs": [
        {
          "output_type": "stream",
          "name": "stdout",
          "text": [
            "Downloading...\n",
            "From: https://drive.google.com/uc?id=1ZJOmJAusI80Qo9LhTWT-_uEldRjMp4mP\n",
            "To: /content/data.csv\n",
            "\r  0% 0.00/369 [00:00<?, ?B/s]\r100% 369/369 [00:00<00:00, 625kB/s]\n"
          ]
        }
      ],
      "source": [
        "# Download Dataset:\n",
        "!gdown --id 1ZJOmJAusI80Qo9LhTWT-_uEldRjMp4mP"
      ]
    },
    {
      "cell_type": "code",
      "source": [
        "# TODO: Add import statements\n",
        "\n",
        "# Assign the data to predictor and outcome variables\n",
        "# TODO: Load the data\n",
        "train_data = None\n",
        "X = None\n",
        "y = None\n",
        "\n",
        "# Create polynomial features\n",
        "# TODO: Create a PolynomialFeatures object, then fit and transform the\n",
        "# predictor feature\n",
        "poly_feat = None\n",
        "X_poly = None\n",
        "\n",
        "# Make and fit the polynomial regression model\n",
        "# TODO: Create a LinearRegression object and fit it to the polynomial predictor\n",
        "# features\n",
        "poly_model = None\n",
        "\n",
        "# Once you've completed all of the steps, select Test Run to see your model\n",
        "# predictions against the data, or select Submit Answer to check if the degree\n",
        "# of the polynomial features is the same as ours!"
      ],
      "metadata": {
        "id": "kPa9mOwbbDx5"
      },
      "execution_count": null,
      "outputs": []
    },
    {
      "cell_type": "markdown",
      "source": [
        "# Solution"
      ],
      "metadata": {
        "id": "ftasP3lkbINS"
      }
    },
    {
      "cell_type": "code",
      "source": [
        "# TODO: Add import statements\n",
        "import pandas as pd\n",
        "from sklearn.linear_model import LinearRegression\n",
        "from sklearn.preprocessing import PolynomialFeatures\n",
        "\n",
        "# Assign the data to predictor and outcome variables\n",
        "# TODO: Load the data\n",
        "train_data = pd.read_csv(\"data.csv\")\n",
        "X = train_data['Var_X'].values.reshape(-1,1)\n",
        "y = train_data['Var_Y'].values\n",
        "\n",
        "# Create polynomial features\n",
        "# TODO: Create a PolynomialFeatures object, then fit and transform the\n",
        "# predictor feature\n",
        "poly_feat = PolynomialFeatures(degree=4)\n",
        "X_poly = poly_feat.fit_transform(X)\n",
        "\n",
        "# Make and fit the polynomial regression model\n",
        "# TODO: Create a LinearRegression object and fit it to the polynomial predictor\n",
        "# features\n",
        "poly_model = LinearRegression(fit_intercept=False).fit(X_poly, y)\n",
        "\n",
        "# Once you've completed all of the steps, select Test Run to see your model\n",
        "# predictions against the data, or select Submit Answer to check if the degree\n",
        "# of the polynomial features is the same as ours!"
      ],
      "metadata": {
        "id": "SfQ9OYpGbH3T"
      },
      "execution_count": 57,
      "outputs": []
    },
    {
      "cell_type": "code",
      "source": [
        "import numpy as np\n",
        "from matplotlib import pyplot as plt\n",
        "\n",
        "def PolyCoefficients(x, coeffs):\n",
        "    \"\"\" Returns a polynomial for ``x`` values for the ``coeffs`` provided.\n",
        "\n",
        "    The coefficients must be in ascending order (``x**0`` to ``x**o``).\n",
        "    \"\"\"\n",
        "    o = len(coeffs)\n",
        "    print(f'# This is a polynomial of order {ord}.')\n",
        "    y = 0\n",
        "    for i in range(o):\n",
        "        y += coeffs[i]*x**i\n",
        "    return y\n",
        "\n",
        "x_ploting = np.linspace(X.min(), X.max(), 100)\n",
        "plt.scatter(X,y)\n",
        "plt.plot(x_ploting, PolyCoefficients(x_ploting, poly_model.coef_))\n",
        "plt.show()"
      ],
      "metadata": {
        "colab": {
          "base_uri": "https://localhost:8080/",
          "height": 283
        },
        "id": "Aaa__mG4j7oH",
        "outputId": "b6913c39-f471-4cb1-bff8-4131a7d7b7ca"
      },
      "execution_count": 58,
      "outputs": [
        {
          "output_type": "stream",
          "name": "stdout",
          "text": [
            "# This is a polynomial of order <built-in function ord>.\n"
          ]
        },
        {
          "output_type": "display_data",
          "data": {
            "image/png": "[encoded data removed]",
            "text/plain": [
              "<Figure size 432x288 with 1 Axes>"
            ]
          },
          "metadata": {
            "needs_background": "light"
          }
        }
      ]
    },
    {
      "cell_type": "code",
      "source": [
        "# For illustration\n",
        "print(train_data['Var_X'].values.reshape(-1,1))\n",
        "print(X_poly)"
      ],
      "metadata": {
        "colab": {
          "base_uri": "https://localhost:8080/"
        },
        "id": "r6b8h3ZqeNcL",
        "outputId": "28ffde27-5ace-4929-e335-8169f184eb5c"
      },
      "execution_count": 19,
      "outputs": [
        {
          "output_type": "stream",
          "name": "stdout",
          "text": [
            "[[-0.33532]\n",
            " [ 0.0216 ]\n",
            " [-1.19438]\n",
            " [-0.65046]\n",
            " [-0.28001]\n",
            " [ 1.93258]\n",
            " [ 1.2262 ]\n",
            " [ 0.74727]\n",
            " [ 3.32853]\n",
            " [ 2.87457]\n",
            " [-1.48662]\n",
            " [ 0.37629]\n",
            " [ 1.43918]\n",
            " [ 0.24183]\n",
            " [-2.7914 ]\n",
            " [ 1.08176]\n",
            " [ 2.81555]\n",
            " [ 0.54924]\n",
            " [ 2.36449]\n",
            " [-1.01925]]\n",
            "[[ 1.00000000e+00 -3.35320000e-01  1.12439502e-01 -3.77032139e-02\n",
            "   1.26426417e-02]\n",
            " [ 1.00000000e+00  2.16000000e-02  4.66560000e-04  1.00776960e-05\n",
            "   2.17678234e-07]\n",
            " [ 1.00000000e+00 -1.19438000e+00  1.42654358e+00 -1.70383513e+00\n",
            "   2.03502660e+00]\n",
            " [ 1.00000000e+00 -6.50460000e-01  4.23098212e-01 -2.75208463e-01\n",
            "   1.79012097e-01]\n",
            " [ 1.00000000e+00 -2.80010000e-01  7.84056001e-02 -2.19543521e-02\n",
            "   6.14743813e-03]\n",
            " [ 1.00000000e+00  1.93258000e+00  3.73486546e+00  7.21792628e+00\n",
            "   1.39492200e+01]\n",
            " [ 1.00000000e+00  1.22620000e+00  1.50356644e+00  1.84367317e+00\n",
            "   2.26071204e+00]\n",
            " [ 1.00000000e+00  7.47270000e-01  5.58412453e-01  4.17284874e-01\n",
            "   3.11824468e-01]\n",
            " [ 1.00000000e+00  3.32853000e+00  1.10791120e+01  3.68771565e+01\n",
            "   1.22746722e+02]\n",
            " [ 1.00000000e+00  2.87457000e+00  8.26315268e+00  2.37530108e+01\n",
            "   6.82796923e+01]\n",
            " [ 1.00000000e+00 -1.48662000e+00  2.21003902e+00 -3.28548821e+00\n",
            "   4.88427249e+00]\n",
            " [ 1.00000000e+00  3.76290000e-01  1.41594164e-01  5.32804680e-02\n",
            "   2.00489073e-02]\n",
            " [ 1.00000000e+00  1.43918000e+00  2.07123907e+00  2.98088585e+00\n",
            "   4.29003130e+00]\n",
            " [ 1.00000000e+00  2.41830000e-01  5.84817489e-02  1.41426413e-02\n",
            "   3.42011495e-03]\n",
            " [ 1.00000000e+00 -2.79140000e+00  7.79191396e+00 -2.17503486e+01\n",
            "   6.07139232e+01]\n",
            " [ 1.00000000e+00  1.08176000e+00  1.17020470e+00  1.26588063e+00\n",
            "   1.36937903e+00]\n",
            " [ 1.00000000e+00  2.81555000e+00  7.92732180e+00  2.23197709e+01\n",
            "   6.28424310e+01]\n",
            " [ 1.00000000e+00  5.49240000e-01  3.01664578e-01  1.65686253e-01\n",
            "   9.10015174e-02]\n",
            " [ 1.00000000e+00  2.36449000e+00  5.59081296e+00  1.32194213e+01\n",
            "   3.12571896e+01]\n",
            " [ 1.00000000e+00 -1.01925000e+00  1.03887056e+00 -1.05886882e+00\n",
            "   1.07925205e+00]]\n"
          ]
        }
      ]
    },
    {
      "cell_type": "code",
      "source": [
        ""
      ],
      "metadata": {
        "id": "S7NvnYvac2dB"
      },
      "execution_count": null,
      "outputs": []
    }
  ]
}