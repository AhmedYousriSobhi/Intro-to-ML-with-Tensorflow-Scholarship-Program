{
  "cells": [
    {
      "cell_type": "markdown",
      "source": [
        "[![open in colab](https://colab.research.google.com/assets/colab-badge.svg)](https://colab.research.google.com/drive/1WvAcYA36ar0vKoC9dEiB6jjAvVTua-BW?usp=sharing)"
      ],
      "metadata": {
        "id": "oyaerxb0vzpu"
      }
    },
    {
      "cell_type": "markdown",
      "source": [
        "# Grid Search in sklearn\n",
        "\n",
        "Grid Search in sklearn is very simple. We'll illustrate it with an example. Let's say we'd like to train a support vector machine, and we'd like to decide between the following parameters:\n",
        "\n",
        "- kernel: poly or rbf.\n",
        "- C: 0.1, 1, or 10.\n",
        "\n",
        "(Note: These parameters can be used as a black box now, but we'll see them in detail in the Supervised Learning Section of the nanodegree.)\n",
        "\n",
        "## The steps are the following:\n",
        "\n",
        "- 1. Import GridSearchCV\n",
        "from sklearn.model_selection import GridSearchCV\n",
        "- 2. Select the parameters:\n",
        "Here we pick what are the parameters we want to choose from, and form a dictionary. In this dictionary, the keys will be the names of the parameters, and the values will be the lists of possible values for each parameter.\n",
        "\n",
        "    parameters = {'kernel':['poly', 'rbf'],'C':[0.1, 1, 10]}\n",
        "\n",
        "- 3. Create a scorer.\n",
        "We need to decide what metric we'll use to score each of the candidate models. In here, we'll use F1 Score.\n",
        "\n",
        "  - from sklearn.metrics import make_scorer\n",
        "  - from sklearn.metrics import f1_score\n",
        "  - scorer = make_scorer(f1_score)\n",
        "- 4. Create a GridSearch Object with the parameters, and the scorer. Use this object to fit the data.\n",
        "    \n",
        "  - \\# Create the object.\n",
        "  - grid_obj = GridSearchCV(clf, parameters, scoring=scorer)\n",
        "  - \\# Fit the data\n",
        "  - grid_fit = grid_obj.fit(X, y)\n",
        "\n",
        "- 5. Get the best estimator.\n",
        "  - best_clf = grid_fit.best_estimator_\n",
        "\n",
        "Now you can use this estimator best_clf to make the predictions.\n",
        "\n",
        "In the next page, you'll find a lab where you can use GridSearchCV to optimize a decision tree model."
      ],
      "metadata": {
        "id": "8dWBBWjhvzZ6"
      }
    },
    {
      "cell_type": "markdown",
      "metadata": {
        "id": "gme19KlnvwPV"
      },
      "source": [
        "# Improving a model with Grid Search\n",
        "\n",
        "In this mini-lab, we'll fit a decision tree model to some sample data. This initial model will overfit heavily. Then we'll use Grid Search to find better parameters for this model, to reduce the overfitting.\n",
        "\n",
        "First, some imports."
      ]
    },
    {
      "cell_type": "code",
      "source": [
        "# Download Dataset\n",
        "!gdown --id 1R4TCIWn1vBW_FzesAzVBiLuhRzqoTSlr"
      ],
      "metadata": {
        "colab": {
          "base_uri": "https://localhost:8080/"
        },
        "id": "wdD5c9c8wEul",
        "outputId": "a0f0f9e3-2f69-4339-a0e1-5c3973d04483"
      },
      "execution_count": 1,
      "outputs": [
        {
          "output_type": "stream",
          "name": "stdout",
          "text": [
            "Downloading...\n",
            "From: https://drive.google.com/uc?id=1R4TCIWn1vBW_FzesAzVBiLuhRzqoTSlr\n",
            "To: /content/data.csv\n",
            "\r  0% 0.00/3.45k [00:00<?, ?B/s]\r100% 3.45k/3.45k [00:00<00:00, 6.84MB/s]\n"
          ]
        }
      ]
    },
    {
      "cell_type": "code",
      "execution_count": 2,
      "metadata": {
        "id": "QPrjPIp7vwPZ"
      },
      "outputs": [],
      "source": [
        "%matplotlib inline\n",
        "import pandas as pd\n",
        "import numpy as np\n",
        "import matplotlib.pyplot as plt"
      ]
    },
    {
      "cell_type": "markdown",
      "metadata": {
        "id": "g3-85oZOvwPa"
      },
      "source": [
        "### 1. Reading and plotting the data\n",
        "Now, a function that will help us read the csv file, and plot the data."
      ]
    },
    {
      "cell_type": "code",
      "execution_count": 3,
      "metadata": {
        "colab": {
          "base_uri": "https://localhost:8080/",
          "height": 269
        },
        "id": "GW7Kmxa0vwPa",
        "outputId": "611dcb81-9861-48ee-af08-c789ee69f0d1"
      },
      "outputs": [
        {
          "output_type": "display_data",
          "data": {
            "image/png": "[encoded data removed]",
            "text/plain": [
              "<Figure size 432x288 with 1 Axes>"
            ]
          },
          "metadata": {
            "needs_background": "light"
          }
        }
      ],
      "source": [
        "def load_pts(csv_name):\n",
        "    data = np.asarray(pd.read_csv(csv_name, header=None))\n",
        "    X = data[:,0:2]\n",
        "    y = data[:,2]\n",
        "\n",
        "    plt.scatter(X[np.argwhere(y==0).flatten(),0], X[np.argwhere(y==0).flatten(),1],s = 50, color = 'blue', edgecolor = 'k')\n",
        "    plt.scatter(X[np.argwhere(y==1).flatten(),0], X[np.argwhere(y==1).flatten(),1],s = 50, color = 'red', edgecolor = 'k')\n",
        "    \n",
        "    plt.xlim(-2.05,2.05)\n",
        "    plt.ylim(-2.05,2.05)\n",
        "    plt.grid(False)\n",
        "    plt.tick_params(\n",
        "        axis='x',\n",
        "        which='both',\n",
        "        bottom='off',\n",
        "        top='off')\n",
        "\n",
        "    return X,y\n",
        "\n",
        "X, y = load_pts('data.csv')\n",
        "plt.show()"
      ]
    },
    {
      "cell_type": "markdown",
      "metadata": {
        "id": "fgRsCcgGvwPb"
      },
      "source": [
        "### 2. Splitting our data into training and testing sets"
      ]
    },
    {
      "cell_type": "code",
      "execution_count": 4,
      "metadata": {
        "id": "lw40hTD3vwPb"
      },
      "outputs": [],
      "source": [
        "from sklearn.model_selection import train_test_split\n",
        "from sklearn.metrics import f1_score, make_scorer\n",
        "\n",
        "#Fixing a random seed\n",
        "import random\n",
        "random.seed(42)\n",
        "\n",
        "# Split the data into training and testing sets\n",
        "X_train, X_test, y_train, y_test = train_test_split(X, y, test_size=0.2, random_state=42)"
      ]
    },
    {
      "cell_type": "markdown",
      "metadata": {
        "id": "TQU0htoqvwPc"
      },
      "source": [
        "### 3. Fitting a Decision Tree model"
      ]
    },
    {
      "cell_type": "code",
      "execution_count": 5,
      "metadata": {
        "id": "vMAzFhQEvwPc"
      },
      "outputs": [],
      "source": [
        "from sklearn.tree import DecisionTreeClassifier\n",
        "\n",
        "# Define the model (with default hyperparameters)\n",
        "clf = DecisionTreeClassifier(random_state=42)\n",
        "\n",
        "# Fit the model\n",
        "clf.fit(X_train, y_train)\n",
        "\n",
        "# Make predictions\n",
        "train_predictions = clf.predict(X_train)\n",
        "test_predictions = clf.predict(X_test)"
      ]
    },
    {
      "cell_type": "markdown",
      "metadata": {
        "id": "S96OC2pTvwPd"
      },
      "source": [
        "Now let's plot the model, and find the testing f1_score, to see how we did."
      ]
    },
    {
      "cell_type": "markdown",
      "metadata": {
        "id": "H40ATNBjvwPd"
      },
      "source": [
        "The following function will help us plot the model."
      ]
    },
    {
      "cell_type": "code",
      "execution_count": 6,
      "metadata": {
        "id": "Oc1YZn9ZvwPe"
      },
      "outputs": [],
      "source": [
        "def plot_model(X, y, clf):\n",
        "    plt.scatter(X[np.argwhere(y==0).flatten(),0],X[np.argwhere(y==0).flatten(),1],s = 50, color = 'blue', edgecolor = 'k')\n",
        "    plt.scatter(X[np.argwhere(y==1).flatten(),0],X[np.argwhere(y==1).flatten(),1],s = 50, color = 'red', edgecolor = 'k')\n",
        "\n",
        "    plt.xlim(-2.05,2.05)\n",
        "    plt.ylim(-2.05,2.05)\n",
        "    plt.grid(False)\n",
        "    plt.tick_params(\n",
        "        axis='x',\n",
        "        which='both',\n",
        "        bottom='off',\n",
        "        top='off')\n",
        "\n",
        "    r = np.linspace(-2.1,2.1,300)\n",
        "    s,t = np.meshgrid(r,r)\n",
        "    s = np.reshape(s,(np.size(s),1))\n",
        "    t = np.reshape(t,(np.size(t),1))\n",
        "    h = np.concatenate((s,t),1)\n",
        "\n",
        "    z = clf.predict(h)\n",
        "\n",
        "    s = s.reshape((np.size(r),np.size(r)))\n",
        "    t = t.reshape((np.size(r),np.size(r)))\n",
        "    z = z.reshape((np.size(r),np.size(r)))\n",
        "\n",
        "    plt.contourf(s,t,z,colors = ['blue','red'],alpha = 0.2,levels = range(-1,2))\n",
        "    if len(np.unique(z)) > 1:\n",
        "        plt.contour(s,t,z,colors = 'k', linewidths = 2)\n",
        "    plt.show()"
      ]
    },
    {
      "cell_type": "code",
      "execution_count": null,
      "metadata": {
        "id": "yk9VFExxvwPe",
        "outputId": "aaa49939-8135-4b56-9829-17a65926b84d"
      },
      "outputs": [
        {
          "data": {
            "image/png": "[encoded data removed]",
            "text/plain": [
              "<matplotlib.figure.Figure at 0x7f08751c5ba8>"
            ]
          },
          "metadata": {},
          "output_type": "display_data"
        },
        {
          "name": "stdout",
          "output_type": "stream",
          "text": [
            "The Training F1 Score is 1.0\n",
            "The Testing F1 Score is 0.7\n"
          ]
        }
      ],
      "source": [
        "plot_model(X, y, clf)\n",
        "print('The Training F1 Score is', f1_score(train_predictions, y_train))\n",
        "print('The Testing F1 Score is', f1_score(test_predictions, y_test))"
      ]
    },
    {
      "cell_type": "markdown",
      "metadata": {
        "id": "IxiO-vTpvwPf"
      },
      "source": [
        "Woah! Some heavy overfitting there. Not just from looking at the graph, but also from looking at the difference between the high training score (1.0) and the low testing score (0.7).Let's see if we can find better hyperparameters for this model to do better. We'll use grid search for this.\n",
        "\n",
        "### 4. (TODO) Use grid search to improve this model.\n",
        "\n",
        "In here, we'll do the following steps:\n",
        "1. First define some parameters to perform grid search on. We suggest to play with `max_depth`, `min_samples_leaf`, and `min_samples_split`.\n",
        "2. Make a scorer for the model using `f1_score`.\n",
        "3. Perform grid search on the classifier, using the parameters and the scorer.\n",
        "4. Fit the data to the new classifier.\n",
        "5. Plot the model and find the f1_score.\n",
        "6. If the model is not much better, try changing the ranges for the parameters and fit it again.\n",
        "\n",
        "**Optional Step** - Put the steps 2-6 mentioned above inside a function `calculate_F1_Score(parameters)` to make it reusable. <br><br>\n",
        "**_Hint:_ If you're stuck and would like to see a working solution, check the solutions notebook in this same folder.**"
      ]
    },
    {
      "cell_type": "code",
      "execution_count": null,
      "metadata": {
        "id": "w2Jg1JsFvwPf"
      },
      "outputs": [],
      "source": [
        "from sklearn.metrics import make_scorer\n",
        "from sklearn.model_selection import GridSearchCV\n",
        "\n",
        "clf = DecisionTreeClassifier(random_state=42)\n",
        "\n",
        "# TODO: Create the parameters list you wish to tune.\n",
        "parameters = None\n",
        "\n",
        "def calculate_F1_Score(parameters):\n",
        "    # TODO: Make an fbeta_score scoring object.\n",
        "    scorer = None\n",
        "\n",
        "    # TODO: Perform grid search on the classifier using 'scorer' as the scoring method.\n",
        "    grid_obj = None\n",
        "\n",
        "    # TODO: Fit the grid search object to the training data and find the optimal parameters.\n",
        "    grid_fit = None\n",
        "\n",
        "    # TODO: Get the estimator.\n",
        "    best_clf = None\n",
        "\n",
        "    # Fit the new model.\n",
        "    best_clf.fit(X_train, y_train)\n",
        "\n",
        "    # Make predictions using the new model.\n",
        "    best_train_predictions = best_clf.predict(X_train)\n",
        "    best_test_predictions = best_clf.predict(X_test)\n",
        "\n",
        "    # Calculate the f1_score of the new model.\n",
        "    print('The training F1 Score is', f1_score(best_train_predictions, y_train))\n",
        "    print('The testing F1 Score is', f1_score(best_test_predictions, y_test))\n",
        "\n",
        "    # Plot the new model.\n",
        "    plot_model(X, y, best_clf)\n",
        "\n",
        "    # Let's also explore what parameters ended up being used in the new model.\n",
        "    print(best_clf)\n",
        "\n",
        "#----------------------------------------------#\n",
        "\n",
        "# Call the function\n",
        "calculate_F1_Score(parameters)"
      ]
    },
    {
      "cell_type": "markdown",
      "source": [
        "Did you notice that a finer grid is giving you less accurate results than a coarser grid?\n",
        "\n",
        "Grid\tTraining || F1 Score\t|| Testing F1 Score\n",
        "\n",
        "Coarser grid (step-size 2)\t0.814814814815\t0.8\n",
        "\n",
        "Finer grid (step-size 1)\t0.8\t0.72\n",
        "\n",
        "To understand the results better, re-run the model above with verbose attribute of GridSearchCV() set to 3 in order to see the detailed cross validation scores:\n",
        "\n",
        "- grid_obj = GridSearchCV(clf, parameters, scoring=scorer, verbose=3)\n",
        "print(grid_obj)\n",
        "\n",
        "The following points will answer the anomaly shown in the table above:\n",
        "\n",
        "- How many combinations of hyperparameters are getting evaluated?\n",
        "- How does the 3-fold cross validation works?\n",
        "- Does the size of the training data plays any role in the model accuracy?\n",
        "\n",
        "Read the response to the questions above in our Knowledge post.\n",
        "\n",
        "## Conclusion\n",
        "Note that by using GridSearch we improved the F1 Score from 0.7 to 0.8 (and we lost some training score, but this is ok). Also, if you look at the plot, the second model has a much simpler boundary, which implies that it's less likely to overfit."
      ],
      "metadata": {
        "id": "jE1eaJmw0KIb"
      }
    },
    {
      "cell_type": "code",
      "source": [
        ""
      ],
      "metadata": {
        "id": "tKiElKmD0mho"
      },
      "execution_count": null,
      "outputs": []
    }
  ],
  "metadata": {
    "kernelspec": {
      "display_name": "Python 3",
      "language": "python",
      "name": "python3"
    },
    "language_info": {
      "codemirror_mode": {
        "name": "ipython",
        "version": 3
      },
      "file_extension": ".py",
      "mimetype": "text/x-python",
      "name": "python",
      "nbconvert_exporter": "python",
      "pygments_lexer": "ipython3",
      "version": "3.6.3"
    },
    "colab": {
      "name": "Udacity_GridSearch_Lab_Quiz.ipynb",
      "provenance": []
    }
  },
  "nbformat": 4,
  "nbformat_minor": 0
}