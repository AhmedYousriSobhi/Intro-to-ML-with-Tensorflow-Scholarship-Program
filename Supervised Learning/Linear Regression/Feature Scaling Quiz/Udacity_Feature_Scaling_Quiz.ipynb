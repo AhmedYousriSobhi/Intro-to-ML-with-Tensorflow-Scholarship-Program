{
  "nbformat": 4,
  "nbformat_minor": 0,
  "metadata": {
    "colab": {
      "name": "Udacity_Feature_Scaling_Quiz.ipynb",
      "provenance": []
    },
    "kernelspec": {
      "name": "python3",
      "display_name": "Python 3"
    },
    "language_info": {
      "name": "python"
    }
  },
  "cells": [
    {
      "cell_type": "markdown",
      "source": [
        "[![open in colab](https://colab.research.google.com/assets/colab-badge.svg)](https://colab.research.google.com/drive/1sAm5sEYFHwObS9DxNU0hwemArJCp3Nm6?usp=sharing)"
      ],
      "metadata": {
        "id": "1w-FvagSsxIp"
      }
    },
    {
      "cell_type": "markdown",
      "source": [
        "# Feature Scaling\n",
        "\n",
        "What is feature scaling? Feature scaling is a way of transforming your data into a common range of values. There are two common scalings:\n",
        "\n",
        "- Standardizing\n",
        "- Normalizing\n",
        "\n",
        "## Standardizing\n",
        "\n",
        "Standardizing is completed by taking each value of your column, subtracting the mean of the column, and then dividing by the standard deviation of the column. In Python, let's say you have a column in df called height. You could create a standardized height as:\n",
        "\n",
        "- df[\"height_standard\"] = (df[\"height\"] - df[\"height\"].mean()) / df[\"height\"].std()\n",
        "\n",
        "This will create a new \"standardized\" column where each value is a comparison to the mean of the column, and a new, standardized value can be interpreted as the number of standard deviations the original height was from the mean. This type of feature scaling is by far the most common of all techniques (for the reasons discussed here, but also likely because of precedent).\n",
        "\n",
        "## Normalizing\n",
        "A second type of feature scaling that is very popular is known as normalizing. With normalizing, data are scaled between 0 and 1. Using the same example as above, we could perform normalizing in Python in the following way:\n",
        "\n",
        "- df[\"height_normal\"] = (df[\"height\"] - df[\"height\"].min()) / (df[\"height\"].max() - df['height'].min())\n",
        "\n",
        "## When Should I Use Feature Scaling?\n",
        "\n",
        "In many machine learning algorithms, the result will change depending on the units of your data. This is especially true in two specific cases:\n",
        "\n",
        "When your algorithm uses a distance-based metric to predict.\n",
        "When you incorporate regularization.\n",
        "\n",
        "## Distance Based Metrics\n",
        "In future lessons, you will see one common supervised learning technique that is based on the distance points are from one another called Support Vector Machines (or SVMs). Another technique that involves distance based methods to determine a prediction is k-nearest neighbors (or k-nn). With either of these techniques, choosing not to scale your data may lead to drastically different (and likely misleading) ending predictions.\n",
        "\n",
        "For this reason, choosing some sort of feature scaling is necessary with these distance based techniques.\n",
        "\n",
        "## Regularization\n",
        "When you start introducing regularization, you will again want to scale the features of your model. The penalty on particular coefficients in regularized linear regression techniques depends largely on the scale associated with the features. When one feature is on a small range, say from 0 to 10, and another is on a large range, say from 0 to 1 000 000, applying regularization is going to unfairly punish the feature with the small range. Features with small ranges need to have larger coefficients compared to features with large ranges in order to have the same effect on the outcome of the data. (Think about how ab = baab=ba for two numbers aa and bb.) Therefore, if regularization could remove one of those two features with the same net increase in error, it would rather remove the small-ranged feature with the large coefficient, since that would reduce the regularization term the most.\n",
        "\n",
        "Again, this means you will want to scale features any time you are applying regularization.\n",
        "\n",
        "[A useful Quora post on the importance of feature scaling when using regularization](https://www.quora.com/Why-do-we-normalize-the-data)\n",
        "\n",
        "A point raised in the article above is that feature scaling can speed up convergence of your machine learning algorithms, which is an important consideration when you scale machine learning applications.\n",
        "\n",
        "Use the quiz below to get some practice with feature scaling.\n",
        "\n",
        "## Feature Scaling Exercise\n",
        "\n",
        "Previously, you saw how regularization will remove features from a model (by setting their coefficients to zero) if the penalty for removing them is small. In this exercise, you'll revisit the same dataset as before and see how scaling the features changes which features are favored in a regularization step. See the \"Quiz: Regularization\" page for more details. The only thing different for this quiz compared to the previous one is the addition of a new step after loading the data, where you will use sklearn's StandardScaler to standardize the data before you fit a linear regression model to the data with L1 (Lasso) regularization.\n",
        "\n",
        "Perform the following steps:\n",
        "1. Load in the data\n",
        "\n",
        "- The data is in the file called 'data.csv'. Note that there's no header row on this file.\n",
        "- Split the data so that the six predictor features (first six columns) are stored in X, and the outcome feature (last column) is stored in y.\n",
        "2. (NEW) Perform feature scaling on data via standardization\n",
        "\n",
        "- Create an instance of sklearn's StandardScaler and assign it to the variable scaler.\n",
        "- Compute the scaling parameters by using the .fit_transform() method on the predictor feature array, which also returns the predictor variables in their standardized values. Store those standardized values in X_scaled.\n",
        "3. Fit data using linear regression with Lasso regularization\n",
        "\n",
        "- Create an instance of sklearn's Lasso class and assign it to the variable lasso_reg. You don't need to set any parameter values: use the default values for the quiz.\n",
        "- Use the Lasso object's .fit() method to fit the regression model onto the data. Make sure that you apply the fit to the standardized data from the previous step (X_scaled), not the original data.\n",
        "4. Inspect the coefficients of the regression model\n",
        "\n",
        "- Obtain the coefficients of the fit regression model using the .coef_ attribute of the Lasso object. Store this in the reg_coef variable: the coefficients will be printed out, and you will use your observations to answer the question at the bottom of the page."
      ],
      "metadata": {
        "id": "jI46xn1Tsw7m"
      }
    },
    {
      "cell_type": "code",
      "execution_count": 1,
      "metadata": {
        "colab": {
          "base_uri": "https://localhost:8080/"
        },
        "id": "PCYe6RXksuwl",
        "outputId": "e1749462-a938-41a4-ee5b-7bb50fbfcde9"
      },
      "outputs": [
        {
          "output_type": "stream",
          "name": "stdout",
          "text": [
            "Downloading...\n",
            "From: https://drive.google.com/uc?id=1NRfnPg1a7XcLJljq6zfas1bFNFrO5uXN\n",
            "To: /content/Data_scale.csv\n",
            "\r  0% 0.00/6.15k [00:00<?, ?B/s]\r100% 6.15k/6.15k [00:00<00:00, 21.9MB/s]\n"
          ]
        }
      ],
      "source": [
        "# Dowonload Dateset:\n",
        "!gdown --id 1NRfnPg1a7XcLJljq6zfas1bFNFrO5uXN"
      ]
    },
    {
      "cell_type": "code",
      "source": [
        "# TODO: Add import statements\n",
        "\n",
        "\n",
        "# Assign the data to predictor and outcome variables\n",
        "# TODO: Load the data\n",
        "train_data = None\n",
        "X = None\n",
        "y = None\n",
        "\n",
        "# TODO: Create the standardization scaling object.\n",
        "scaler = None\n",
        "\n",
        "# TODO: Fit the standardization parameters and scale the data.\n",
        "X_scaled = None\n",
        "\n",
        "# TODO: Create the linear regression model with lasso regularization.\n",
        "lasso_reg = None\n",
        "\n",
        "# TODO: Fit the model.\n",
        "\n",
        "\n",
        "# TODO: Retrieve and print out the coefficients from the regression model.\n",
        "reg_coef = None\n",
        "print(reg_coef)"
      ],
      "metadata": {
        "id": "va-yKjcUuQkk"
      },
      "execution_count": null,
      "outputs": []
    },
    {
      "cell_type": "markdown",
      "source": [
        "## Solution"
      ],
      "metadata": {
        "id": "9BJrXZ_YuuML"
      }
    },
    {
      "cell_type": "code",
      "source": [
        "# TODO: Add import statements\n",
        "import pandas as pd\n",
        "from sklearn.linear_model import Lasso\n",
        "from sklearn.preprocessing import StandardScaler\n",
        "\n",
        "# Assign the data to predictor and outcome variables\n",
        "# TODO: Load the data\n",
        "train_data = pd.read_csv(\"Data_scale.csv\")\n",
        "X = train_data.iloc[:,:-1]\n",
        "y = train_data.iloc[:,-1]\n",
        "\n",
        "# TODO: Create the standardization scaling object.\n",
        "scaler = StandardScaler()\n",
        "\n",
        "# TODO: Fit the standardization parameters and scale the data.\n",
        "X_scaled = scaler.fit_transform(X)\n",
        "\n",
        "# TODO: Create the linear regression model with lasso regularization.\n",
        "lasso_reg = Lasso()\n",
        "\n",
        "# TODO: Fit the model.\n",
        "lasso_reg.fit(X_scaled,y)\n",
        "\n",
        "# TODO: Retrieve and print out the coefficients from the regression model.\n",
        "reg_coef = lasso_reg.coef_\n",
        "print(reg_coef)"
      ],
      "metadata": {
        "colab": {
          "base_uri": "https://localhost:8080/"
        },
        "id": "ZwcpOpQ9uvO7",
        "outputId": "6b9e9a77-5109-43b5-a3ec-b6fab37e6249"
      },
      "execution_count": 2,
      "outputs": [
        {
          "output_type": "stream",
          "name": "stdout",
          "text": [
            "[  0.           3.8596924    9.05021225  -0.         -11.72692976\n",
            "   0.41040086]\n"
          ]
        }
      ]
    },
    {
      "cell_type": "code",
      "source": [
        ""
      ],
      "metadata": {
        "id": "7by8uNeiv0p1"
      },
      "execution_count": null,
      "outputs": []
    }
  ]
}