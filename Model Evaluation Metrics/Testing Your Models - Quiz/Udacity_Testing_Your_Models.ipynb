{
  "nbformat": 4,
  "nbformat_minor": 0,
  "metadata": {
    "colab": {
      "name": "Udacity_Testing_Your_Models.ipynb",
      "provenance": []
    },
    "kernelspec": {
      "name": "python3",
      "display_name": "Python 3"
    },
    "language_info": {
      "name": "python"
    }
  },
  "cells": [
    {
      "cell_type": "markdown",
      "source": [
        "[![open in colab](https://colab.research.google.com/assets/colab-badge.svg)](https://colab.research.google.com/drive/1w-NeuD1bGbymuR8ayeHp7CRjQncZR_BM?usp=sharing)"
      ],
      "metadata": {
        "id": "Uh1YM365o962"
      }
    },
    {
      "cell_type": "code",
      "execution_count": 4,
      "metadata": {
        "colab": {
          "base_uri": "https://localhost:8080/",
          "height": 321
        },
        "id": "4Dj6RZxeov0W",
        "outputId": "e58ebc84-f3f0-4750-b30a-e7a63029904d"
      },
      "outputs": [
        {
          "output_type": "execute_result",
          "data": {
            "text/html": [
              "\n",
              "        <iframe\n",
              "            width=\"800\"\n",
              "            height=\"300\"\n",
              "            src=\"https://www.youtube.com/embed/gmxGRJSKEb0\"\n",
              "            frameborder=\"0\"\n",
              "            allowfullscreen\n",
              "        ></iframe>\n",
              "        "
            ],
            "text/plain": [
              "<IPython.lib.display.YouTubeVideo at 0x7f969ecca950>"
            ],
            "image/jpeg": "[encoded data removed]"
          },
          "metadata": {},
          "execution_count": 4
        }
      ],
      "source": [
        "from IPython.display import YouTubeVideo\n",
        "\n",
        "YouTubeVideo('gmxGRJSKEb0', width=800, height=300)"
      ]
    },
    {
      "cell_type": "code",
      "source": [
        "# Download Dataset\n",
        "!gdown --id 18cs21z8D35tmHKHaD3xB0drn_TZIG2Ft"
      ],
      "metadata": {
        "colab": {
          "base_uri": "https://localhost:8080/"
        },
        "id": "T5d5N6I2qmLP",
        "outputId": "16cef869-0c38-4b7c-e84b-e35fb45223df"
      },
      "execution_count": 5,
      "outputs": [
        {
          "output_type": "stream",
          "name": "stdout",
          "text": [
            "Downloading...\n",
            "From: https://drive.google.com/uc?id=18cs21z8D35tmHKHaD3xB0drn_TZIG2Ft\n",
            "To: /content/data.csv\n",
            "\r  0% 0.00/1.81k [00:00<?, ?B/s]\r100% 1.81k/1.81k [00:00<00:00, 2.51MB/s]\n"
          ]
        }
      ]
    },
    {
      "cell_type": "code",
      "source": [
        "# Import statements \n",
        "from sklearn.tree import DecisionTreeClassifier\n",
        "from sklearn.metrics import accuracy_score\n",
        "import pandas as pd\n",
        "import numpy as np\n",
        "\n",
        "# Import the train test split\n",
        "# http://scikit-learn.org/0.16/modules/generated/sklearn.cross_validation.train_test_split.html\n",
        "\n",
        "\n",
        "# Read in the data.\n",
        "data = np.asarray(pd.read_csv('data.csv', header=None))\n",
        "# Assign the features to the variable X, and the labels to the variable y. \n",
        "X = data[:,0:2]\n",
        "y = data[:,2]\n",
        "\n",
        "# Use train test split to split your data \n",
        "# Use a test size of 25% and a random state of 42\n",
        "X_train, X_test, y_train, y_test = \n",
        "\n",
        "# Instantiate your decision tree model\n",
        "model = None\n",
        "\n",
        "# TODO: Fit the model to the training data.\n",
        "\n",
        "# TODO: Make predictions on the test data\n",
        "y_pred = None\n",
        "\n",
        "# TODO: Calculate the accuracy and assign it to the variable acc on the test data.\n",
        "acc = None"
      ],
      "metadata": {
        "id": "kSL1mWeVr17z"
      },
      "execution_count": null,
      "outputs": []
    },
    {
      "cell_type": "markdown",
      "source": [
        "# Solution"
      ],
      "metadata": {
        "id": "KOW7h4myr6sX"
      }
    },
    {
      "cell_type": "code",
      "source": [
        "# Import statements \n",
        "from sklearn.tree import DecisionTreeClassifier\n",
        "from sklearn.metrics import accuracy_score\n",
        "import pandas as pd\n",
        "import numpy as np\n",
        "\n",
        "# Import the train test split\n",
        "# http://scikit-learn.org/0.16/modules/generated/sklearn.cross_validation.train_test_split.html\n",
        "from sklearn.model_selection import train_test_split\n",
        "\n",
        "# Read the data.\n",
        "data = np.asarray(pd.read_csv('data.csv', header=None))\n",
        "# Assign the features to the variable X, and the labels to the variable y. \n",
        "X = data[:,0:2]\n",
        "y = data[:,2]\n",
        "\n",
        "# Use train test split to split your data \n",
        "# Use a test size of 25% and a random state of 42\n",
        "X_train, X_test, y_train, y_test = train_test_split(X, y, test_size=0.25, random_state=42)\n",
        "\n",
        "# TODO: Create the decision tree model and assign it to the variable model.\n",
        "model = DecisionTreeClassifier()\n",
        "\n",
        "# TODO: Fit the model to the training data.\n",
        "model.fit(X_train,y_train)\n",
        "\n",
        "# TODO: Make predictions on the test data\n",
        "y_pred = model.predict(X_test)\n",
        "\n",
        "# TODO: Calculate the accuracy and assign it to the variable acc. on the test data\n",
        "acc = accuracy_score(y_test, y_pred)"
      ],
      "metadata": {
        "id": "d1L6S6-dr7xZ"
      },
      "execution_count": 10,
      "outputs": []
    },
    {
      "cell_type": "code",
      "source": [
        "print(\"The accuracy on the test data is \", acc)\n",
        "\n",
        "import matplotlib.pyplot as plt\n",
        "\n",
        "def make_meshgrid(x, y, h=.02):\n",
        "    x_min, x_max = x.min() - 1, x.max() + 1\n",
        "    y_min, y_max = y.min() - 1, y.max() + 1\n",
        "    xx, yy = np.meshgrid(np.arange(x_min, x_max, h), np.arange(y_min, y_max, h))\n",
        "    return xx, yy\n",
        "\n",
        "def plot_contours(ax, model, xx, yy, **params):\n",
        "    Z = model.predict(np.c_[xx.ravel(), yy.ravel()])\n",
        "    Z = Z.reshape(xx.shape)\n",
        "    out = ax.contourf(xx, yy, Z, **params)\n",
        "    return out\n",
        "\n",
        "fig, ax = plt.subplots()\n",
        "# Set-up grid for plotting.\n",
        "X0, X1 = X[:, 0], X[:, 1]\n",
        "xx, yy = make_meshgrid(X0, X1)\n",
        "\n",
        "plot_contours(ax, model, xx, yy, cmap=plt.cm.coolwarm, alpha=0.8)\n",
        "ax.scatter(X0, X1, c=y, cmap=plt.cm.coolwarm, s=30, edgecolors='black')\n",
        "#ax.set_ylabel('y label here')\n",
        "#ax.set_xlabel('x label here')\n",
        "plt.xlim([0, 1])\n",
        "plt.ylim([0, 1])\n",
        "ax.set_title(\"Solution boundary\")\n",
        "ax.legend()\n",
        "plt.show()"
      ],
      "metadata": {
        "colab": {
          "base_uri": "https://localhost:8080/",
          "height": 318
        },
        "id": "PQh3E_s7ssPK",
        "outputId": "e229e990-10d8-4d5d-f2f9-a825f5295b35"
      },
      "execution_count": 16,
      "outputs": [
        {
          "output_type": "stream",
          "name": "stderr",
          "text": [
            "No handles with labels found to put in legend.\n"
          ]
        },
        {
          "output_type": "stream",
          "name": "stdout",
          "text": [
            "The accuracy on the test data is  0.9583333333333334\n"
          ]
        },
        {
          "output_type": "display_data",
          "data": {
            "image/png": "[encoded data removed]",
            "text/plain": [
              "<Figure size 432x288 with 1 Axes>"
            ]
          },
          "metadata": {
            "needs_background": "light"
          }
        }
      ]
    },
    {
      "cell_type": "code",
      "source": [
        ""
      ],
      "metadata": {
        "id": "ggwsbpsMtLkO"
      },
      "execution_count": null,
      "outputs": []
    }
  ]
}