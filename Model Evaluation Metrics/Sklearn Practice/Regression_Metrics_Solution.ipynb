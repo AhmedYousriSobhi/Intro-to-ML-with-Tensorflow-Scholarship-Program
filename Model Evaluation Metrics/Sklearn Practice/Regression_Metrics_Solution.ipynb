{
  "cells": [
    {
      "cell_type": "markdown",
      "source": [
        "[![open in colab](https://colab.research.google.com/assets/colab-badge.svg)](https://colab.research.google.com/drive/1ZrWm3HXGVgs8nvYaKW-Gh997VekvuP3-?usp=sharing)"
      ],
      "metadata": {
        "id": "PfNwMeFTL_y-"
      }
    },
    {
      "cell_type": "markdown",
      "metadata": {
        "id": "T6j2BgqQL93M"
      },
      "source": [
        "### Boston Housing Data\n",
        "\n",
        "In order to gain a better understanding of the metrics used in regression settings, we will be looking at the Boston Housing dataset.  \n",
        "\n",
        "First use the cell below to read in the dataset and set up the training and testing data that will be used for the rest of this problem."
      ]
    },
    {
      "cell_type": "code",
      "execution_count": null,
      "metadata": {
        "id": "-EzCPyZNL93P"
      },
      "outputs": [],
      "source": [
        "from sklearn.datasets import load_boston\n",
        "from sklearn.model_selection import train_test_split\n",
        "import numpy as np\n",
        "import tests2 as t\n",
        "\n",
        "boston = load_boston()\n",
        "y = boston.target\n",
        "X = boston.data\n",
        "\n",
        "X_train, X_test, y_train, y_test = train_test_split(\n",
        "            X, y, test_size=0.33, random_state=42)"
      ]
    },
    {
      "cell_type": "markdown",
      "metadata": {
        "id": "HEcWfxptL93Q"
      },
      "source": [
        "> **Step 1:** Before we get too far, let's do a quick check of the models that you can use in this situation given that you are working on a regression problem.  Use the dictionary and corresponding letters below to provide all the possible models you might choose to use."
      ]
    },
    {
      "cell_type": "code",
      "execution_count": null,
      "metadata": {
        "id": "d_bgfMngL93Q",
        "outputId": "b501080d-17ae-419a-f3eb-2182445c656b"
      },
      "outputs": [
        {
          "name": "stdout",
          "output_type": "stream",
          "text": [
            "That's right!  All but logistic regression can be used for predicting numeric values.  And linear regression is the only one of these that you should not use for predicting categories.  Technically sklearn won't stop you from doing most of anything you want, but you probably want to treat cases in the way you found by answering this question!\n"
          ]
        }
      ],
      "source": [
        "# When can you use the model - use each option as many times as necessary\n",
        "a = 'regression'\n",
        "b = 'classification'\n",
        "c = 'both regression and classification'\n",
        "\n",
        "models = {\n",
        "    'decision trees': c,\n",
        "    'random forest': c,\n",
        "    'adaptive boosting': c,\n",
        "    'logistic regression': b,\n",
        "    'linear regression': a,\n",
        "}\n",
        "\n",
        "#checks your answer, no need to change this code\n",
        "t.q1_check(models)"
      ]
    },
    {
      "cell_type": "markdown",
      "metadata": {
        "id": "X5r4a8iSL93R"
      },
      "source": [
        "> **Step 2:** Now for each of the models you found in the previous question that can be used for regression problems, import them using sklearn."
      ]
    },
    {
      "cell_type": "code",
      "execution_count": null,
      "metadata": {
        "id": "b_NyC3t-L93S"
      },
      "outputs": [],
      "source": [
        "# Import models from sklearn - notice you will want to use \n",
        "# the regressor version (not classifier) - googling to find \n",
        "# each of these is what we all do!\n",
        "\n",
        "from sklearn.ensemble import RandomForestRegressor, AdaBoostRegressor\n",
        "from sklearn.linear_model import LinearRegression\n",
        "from sklearn.tree import DecisionTreeRegressor"
      ]
    },
    {
      "cell_type": "markdown",
      "metadata": {
        "id": "Wsma0Bl7L93S"
      },
      "source": [
        "> **Step 3:** Now that you have imported the 4 models that can be used for regression problems, instantate each below."
      ]
    },
    {
      "cell_type": "code",
      "execution_count": null,
      "metadata": {
        "id": "fffk6Q6JL93T"
      },
      "outputs": [],
      "source": [
        "# Instantiate each of the models you imported\n",
        "# For now use the defaults for all the hyperparameters\n",
        "\n",
        "tree_mod = DecisionTreeRegressor()\n",
        "rf_mod = RandomForestRegressor()\n",
        "ada_mod = AdaBoostRegressor()\n",
        "reg_mod = LinearRegression()"
      ]
    },
    {
      "cell_type": "markdown",
      "metadata": {
        "id": "xqUZaYKaL93T"
      },
      "source": [
        "> **Step 4:** Fit each of your instantiated models on the training data."
      ]
    },
    {
      "cell_type": "code",
      "execution_count": null,
      "metadata": {
        "id": "X3xRFv_FL93U",
        "outputId": "f754eb7b-5453-411a-ef1e-e879dedbff21"
      },
      "outputs": [
        {
          "data": {
            "text/plain": [
              "LinearRegression(copy_X=True, fit_intercept=True, n_jobs=1, normalize=False)"
            ]
          },
          "execution_count": 5,
          "metadata": {},
          "output_type": "execute_result"
        }
      ],
      "source": [
        "# Fit each of your models using the training data\n",
        "tree_mod.fit(X_train, y_train)\n",
        "rf_mod.fit(X_train, y_train)\n",
        "ada_mod.fit(X_train, y_train)\n",
        "reg_mod.fit(X_train, y_train)\n"
      ]
    },
    {
      "cell_type": "markdown",
      "metadata": {
        "id": "QAOw-0QzL93U"
      },
      "source": [
        "> **Step 5:** Use each of your models to predict on the test data."
      ]
    },
    {
      "cell_type": "code",
      "execution_count": null,
      "metadata": {
        "id": "KOHFFvJqL93U"
      },
      "outputs": [],
      "source": [
        "# Predict on the test values for each model\n",
        "\n",
        "preds_tree = tree_mod.predict(X_test) \n",
        "preds_rf = rf_mod.predict(X_test)\n",
        "preds_ada = ada_mod.predict(X_test)\n",
        "preds_reg = reg_mod.predict(X_test)"
      ]
    },
    {
      "cell_type": "markdown",
      "metadata": {
        "id": "nU6LD3PkL93V"
      },
      "source": [
        "> **Step 6:** Now for the information related to this lesson.  Use the dictionary to match the metrics that are used for regression and those that are for classification."
      ]
    },
    {
      "cell_type": "code",
      "execution_count": null,
      "metadata": {
        "id": "owydqwbWL93V",
        "outputId": "e7865eb0-bcdf-43d8-dc6a-476a0ace5c29"
      },
      "outputs": [
        {
          "name": "stdout",
          "output_type": "stream",
          "text": [
            "That's right! Looks like you know your metrics!\n"
          ]
        }
      ],
      "source": [
        "# potential model options\n",
        "a = 'regression'\n",
        "b = 'classification'\n",
        "c = 'both regression and classification'\n",
        "\n",
        "#\n",
        "metrics = {\n",
        "    'precision': b,\n",
        "    'recall': b,\n",
        "    'accuracy': b,\n",
        "    'r2_score': a,\n",
        "    'mean_squared_error': a,\n",
        "    'area_under_curve': b, \n",
        "    'mean_absolute_area': a \n",
        "}\n",
        "\n",
        "#checks your answer, no need to change this code\n",
        "t.q6_check(metrics)"
      ]
    },
    {
      "cell_type": "markdown",
      "metadata": {
        "id": "2THHp8MaL93V"
      },
      "source": [
        "> **Step 6:** Now that you have identified the metrics that can be used in for regression problems, use sklearn to import them."
      ]
    },
    {
      "cell_type": "code",
      "execution_count": null,
      "metadata": {
        "id": "JnjgSfaQL93W"
      },
      "outputs": [],
      "source": [
        "# Import the metrics from sklearn\n",
        "from sklearn.metrics import r2_score, mean_squared_error, mean_absolute_error\n"
      ]
    },
    {
      "cell_type": "markdown",
      "metadata": {
        "id": "UCve-WA8L93W"
      },
      "source": [
        "> **Step 7:** Similar to what you did with classification models, let's make sure you are comfortable with how exactly each of these metrics is being calculated.  We can then match the value to what sklearn provides."
      ]
    },
    {
      "cell_type": "code",
      "execution_count": null,
      "metadata": {
        "id": "P6NvqbWgL93W",
        "outputId": "d6bb51d7-a0d2-4d21-eafb-013cea15aaaf"
      },
      "outputs": [
        {
          "name": "stdout",
          "output_type": "stream",
          "text": [
            "0.739635302019\n",
            "0.739635302019\n",
            "Since the above match, we can see that we have correctly calculated the r2 value.\n"
          ]
        }
      ],
      "source": [
        "def r2(actual, preds):\n",
        "    '''\n",
        "    INPUT:\n",
        "    actual - numpy array or pd series of actual y values\n",
        "    preds - numpy array or pd series of predicted y values\n",
        "    OUTPUT:\n",
        "    returns the r-squared score as a float\n",
        "    '''\n",
        "    sse = np.sum((actual-preds)**2)\n",
        "    sst = np.sum((actual-np.mean(actual))**2)\n",
        "    return 1 - sse/sst\n",
        "\n",
        "# Check solution matches sklearn\n",
        "print(r2(y_test, preds_tree))\n",
        "print(r2_score(y_test, preds_tree))\n",
        "print(\"Since the above match, we can see that we have correctly calculated the r2 value.\")"
      ]
    },
    {
      "cell_type": "markdown",
      "metadata": {
        "id": "8-O-NSGyL93W"
      },
      "source": [
        "> **Step 8:** Your turn fill in the function below and see if your result matches the built in for mean_squared_error. "
      ]
    },
    {
      "cell_type": "code",
      "execution_count": null,
      "metadata": {
        "id": "1YL5nks2L93X",
        "outputId": "f1df930f-5111-4a80-83f0-da8a80993d32"
      },
      "outputs": [
        {
          "name": "stdout",
          "output_type": "stream",
          "text": [
            "19.704011976\n",
            "19.704011976\n",
            "If the above match, you are all set!\n"
          ]
        }
      ],
      "source": [
        "def mse(actual, preds):\n",
        "    '''\n",
        "    INPUT:\n",
        "    actual - numpy array or pd series of actual y values\n",
        "    preds - numpy array or pd series of predicted y values\n",
        "    OUTPUT:\n",
        "    returns the mean squared error as a float\n",
        "    '''\n",
        "    \n",
        "    return np.sum((actual-preds)**2)/len(actual)\n",
        "\n",
        "\n",
        "# Check your solution matches sklearn\n",
        "print(mse(y_test, preds_tree))\n",
        "print(mean_squared_error(y_test, preds_tree))\n",
        "print(\"If the above match, you are all set!\")"
      ]
    },
    {
      "cell_type": "markdown",
      "metadata": {
        "id": "_PlobhAuL93X"
      },
      "source": [
        "> **Step 9:** Now one last time - complete the function related to mean absolute error.  Then check your function against the sklearn metric to assure they match. "
      ]
    },
    {
      "cell_type": "code",
      "execution_count": null,
      "metadata": {
        "id": "PWUuKwtLL93X",
        "outputId": "b4b7f140-38a6-4426-bafd-745b1b1aec06"
      },
      "outputs": [
        {
          "name": "stdout",
          "output_type": "stream",
          "text": [
            "3.15748502994\n",
            "3.15748502994\n",
            "If the above match, you are all set!\n"
          ]
        }
      ],
      "source": [
        "def mae(actual, preds):\n",
        "    '''\n",
        "    INPUT:\n",
        "    actual - numpy array or pd series of actual y values\n",
        "    preds - numpy array or pd series of predicted y values\n",
        "    OUTPUT:\n",
        "    returns the mean absolute error as a float\n",
        "    '''\n",
        "    \n",
        "    return np.sum(np.abs(actual-preds))/len(actual)\n",
        "\n",
        "# Check your solution matches sklearn\n",
        "print(mae(y_test, preds_tree))\n",
        "print(mean_absolute_error(y_test, preds_tree))\n",
        "print(\"If the above match, you are all set!\")"
      ]
    },
    {
      "cell_type": "markdown",
      "metadata": {
        "id": "PqXvV65hL93X"
      },
      "source": [
        "> **Step 10:** Which model performed the best in terms of each of the metrics?  Note that r2 and mse will always match, but the mae may give a different best model.  Use the dictionary and space below to match the best model via each metric."
      ]
    },
    {
      "cell_type": "code",
      "execution_count": null,
      "metadata": {
        "id": "sEyi9mHpL93X",
        "outputId": "e3569d51-d46b-4e20-b3f9-fc75f88b9331"
      },
      "outputs": [
        {
          "name": "stdout",
          "output_type": "stream",
          "text": [
            "That's right!  The random forest was best in terms of all the metrics this time!\n"
          ]
        }
      ],
      "source": [
        "#match each metric to the model that performed best on it\n",
        "a = 'decision tree'\n",
        "b = 'random forest'\n",
        "c = 'adaptive boosting'\n",
        "d = 'linear regression'\n",
        "\n",
        "\n",
        "best_fit = {\n",
        "    'mse': b,\n",
        "    'r2': b,\n",
        "    'mae': b\n",
        "}\n",
        "\n",
        "#Tests your answer - don't change this code\n",
        "t.check_ten(best_fit)"
      ]
    },
    {
      "cell_type": "code",
      "execution_count": null,
      "metadata": {
        "id": "29nT-IjaL93Y"
      },
      "outputs": [],
      "source": [
        "# cells for work"
      ]
    },
    {
      "cell_type": "code",
      "execution_count": null,
      "metadata": {
        "id": "RIS1IH86L93Y"
      },
      "outputs": [],
      "source": [
        "def print_metrics(y_true, preds, model_name=None):\n",
        "    '''\n",
        "    INPUT:\n",
        "    y_true - the y values that are actually true in the dataset (numpy array or pandas series)\n",
        "    preds - the predictions for those values from some model (numpy array or pandas series)\n",
        "    model_name - (str - optional) a name associated with the model if you would like to add it to the print statements \n",
        "    \n",
        "    OUTPUT:\n",
        "    None - prints the mse, mae, r2\n",
        "    '''\n",
        "    if model_name == None:\n",
        "        print('Mean Squared Error: ', format(mean_squared_error(y_true, preds)))\n",
        "        print('Mean Absolute Error: ', format(mean_absolute_error(y_true, preds)))\n",
        "        print('R2 Score: ', format(r2_score(y_true, preds)))\n",
        "        print('\\n\\n')\n",
        "    \n",
        "    else:\n",
        "        print('Mean Squared Error ' + model_name + ' :' , format(mean_squared_error(y_true, preds)))\n",
        "        print('Mean Absolute Error ' + model_name + ' :', format(mean_absolute_error(y_true, preds)))\n",
        "        print('R2 Score ' + model_name + ' :', format(r2_score(y_true, preds)))\n",
        "        print('\\n\\n')"
      ]
    },
    {
      "cell_type": "code",
      "execution_count": null,
      "metadata": {
        "id": "uXSIaT7DL93Y",
        "outputId": "afa9e9f1-f7c1-4d26-e170-238f9599fed5"
      },
      "outputs": [
        {
          "name": "stdout",
          "output_type": "stream",
          "text": [
            "Mean Squared Error tree : 19.7040119760479\n",
            "Mean Absolute Error tree : 3.1574850299401196\n",
            "R2 Score tree : 0.7396353020190601\n",
            "\n",
            "\n",
            "\n",
            "Mean Squared Error random forest : 11.312801796407184\n",
            "Mean Absolute Error random forest : 2.277425149700599\n",
            "R2 Score random forest : 0.8505150003653941\n",
            "\n",
            "\n",
            "\n",
            "Mean Squared Error adaboost : 14.257393853099275\n",
            "Mean Absolute Error adaboost : 2.692951294012893\n",
            "R2 Score adaboost : 0.8116057760688565\n",
            "\n",
            "\n",
            "\n",
            "Mean Squared Error linear reg : 20.74714336030895\n",
            "Mean Absolute Error linear reg : 3.1512878365883963\n",
            "R2 Score linear reg : 0.7258515818230048\n",
            "\n",
            "\n",
            "\n"
          ]
        }
      ],
      "source": [
        "# Print Decision Tree scores\n",
        "print_metrics(y_test, preds_tree, 'tree')\n",
        "\n",
        "# Print Random Forest scores\n",
        "print_metrics(y_test, preds_rf, 'random forest')\n",
        "\n",
        "# Print AdaBoost scores\n",
        "print_metrics(y_test, preds_ada, 'adaboost')\n",
        "\n",
        "# Linear Regression scores\n",
        "print_metrics(y_test, preds_reg, 'linear reg')\n"
      ]
    },
    {
      "cell_type": "code",
      "execution_count": null,
      "metadata": {
        "id": "IZR19-Q2L93Y"
      },
      "outputs": [],
      "source": [
        ""
      ]
    }
  ],
  "metadata": {
    "kernelspec": {
      "display_name": "Python 3",
      "language": "python",
      "name": "python3"
    },
    "language_info": {
      "codemirror_mode": {
        "name": "ipython",
        "version": 3
      },
      "file_extension": ".py",
      "mimetype": "text/x-python",
      "name": "python",
      "nbconvert_exporter": "python",
      "pygments_lexer": "ipython3",
      "version": "3.6.3"
    },
    "colab": {
      "name": "Regression Metrics Solution.ipynb",
      "provenance": [],
      "collapsed_sections": []
    }
  },
  "nbformat": 4,
  "nbformat_minor": 0
}